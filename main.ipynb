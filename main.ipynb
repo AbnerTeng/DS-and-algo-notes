{
 "cells": [
  {
   "cell_type": "code",
   "execution_count": 2,
   "metadata": {},
   "outputs": [],
   "source": [
    "linked_list = None\n",
    "\n",
    "class Node:\n",
    "\tdef __init__(self, value, next = None):\n",
    "\t\tself.value = value\n",
    "\t\tself.next = next\n",
    "def push(num):\n",
    "    global linked_list\n",
    "    if linked_list == None:\n",
    "        new_Node = Node(num)\n",
    "        List = new_Node\n",
    "    else :\n",
    "        new_Node = Node(num)\n",
    "        Node_next = Node.next\n",
    "        List = Node_next\n",
    "\n",
    "\n",
    "push(1)\n",
    "push(2)\n",
    "push(5)\n",
    "push(18)"
   ]
  },
  {
   "cell_type": "markdown",
   "metadata": {},
   "source": [
    "Recursion"
   ]
  },
  {
   "cell_type": "code",
   "execution_count": 5,
   "metadata": {},
   "outputs": [
    {
     "name": "stdout",
     "output_type": "stream",
     "text": [
      "55\n"
     ]
    }
   ],
   "source": [
    "def summation_loop(n):\n",
    "    init = 0\n",
    "    for i in range(1,n+1):\n",
    "        init += i\n",
    "    return init\n",
    "print(summation_loop(10))\n",
    "\n"
   ]
  }
 ],
 "metadata": {
  "kernelspec": {
   "display_name": "Python 3.10.4 64-bit",
   "language": "python",
   "name": "python3"
  },
  "language_info": {
   "codemirror_mode": {
    "name": "ipython",
    "version": 3
   },
   "file_extension": ".py",
   "mimetype": "text/x-python",
   "name": "python",
   "nbconvert_exporter": "python",
   "pygments_lexer": "ipython3",
   "version": "3.10.4"
  },
  "orig_nbformat": 4,
  "vscode": {
   "interpreter": {
    "hash": "aee8b7b246df8f9039afb4144a1f6fd8d2ca17a180786b69acc140d282b71a49"
   }
  }
 },
 "nbformat": 4,
 "nbformat_minor": 2
}
